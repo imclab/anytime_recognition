{
 "metadata": {
  "name": "",
  "signature": "sha256:50e5bf48261a0d8c5ed4f7e993e5938a5723a7e8c62ddb084b8c630c862f08c9"
 },
 "nbformat": 3,
 "nbformat_minor": 0,
 "worksheets": [
  {
   "cells": [
    {
     "cell_type": "code",
     "collapsed": false,
     "input": [
      "import tc\n",
      "ds = tc.data_sources.SyntheticOrthants(D=4, N=24000)\n",
      "\n",
      "%timeit tc.TimelyClassifier(ds, num_workers=1).process_instances(ds.X, 0)\n",
      "%memit tc.TimelyClassifier(ds, num_workers=1).process_instances(ds.X, 0)\n",
      "%whos\n",
      "\n",
      "%timeit tc.TimelyClassifier(ds, num_workers=4).process_instances(ds.X, 0)\n",
      "%memit tc.TimelyClassifier(ds, num_workers=4).process_instances(ds.X, 0)\n",
      "%whos\n",
      "\n",
      "%timeit tc.TimelyClassifier(ds, num_workers=8).process_instances(ds.X, 0)\n",
      "%memit tc.TimelyClassifier(ds, num_workers=8).process_instances(ds.X, 0)\n",
      "%whos\n"
     ],
     "language": "python",
     "metadata": {},
     "outputs": []
    }
   ],
   "metadata": {}
  }
 ]
}