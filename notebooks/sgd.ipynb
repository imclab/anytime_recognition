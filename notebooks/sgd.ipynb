{
 "metadata": {
  "name": "sgd"
 },
 "nbformat": 3,
 "nbformat_minor": 0,
 "worksheets": [
  {
   "cells": [
    {
     "cell_type": "code",
     "collapsed": false,
     "input": [
      "import tc\n",
      "ds = tc.data_sources.Scene15('data/data_sources')"
     ],
     "language": "python",
     "metadata": {},
     "outputs": [],
     "prompt_number": 2
    },
    {
     "cell_type": "code",
     "collapsed": false,
     "input": [
      "from sklearn.linear_model import SGDClassifier, LogisticRegression\n",
      "from sklearn.grid_search import GridSearchCV\n",
      "import time\n",
      "\n",
      "def logreg(num_workers):\n",
      "    clf = LogisticRegression(dual=False, class_weight='auto', penalty='l2')\n",
      "    param_grid = [{'C': [.001, .01, .1, 1, 10, 100, 1000]}]\n",
      "    grid_clf = GridSearchCV(clf, param_grid, cv=2, verbose=0, n_jobs=num_workers, pre_dispatch=num_workers)\n",
      "    grid_clf.fit(ds.X, ds.y)\n",
      "    print('logreg: {:.3f}'.format(grid_clf.score(ds.X_test, ds.y_test)))\n",
      "\n",
      "t = time.time()\n",
      "logreg(1)\n",
      "print('1 worker logreg {:.3f} s'.format(time.time() - t))\n",
      "\n",
      "t = time.time()\n",
      "logreg(7)\n",
      "print('7 workers logreg {:.3f} s'.format(time.time() - t))"
     ],
     "language": "python",
     "metadata": {},
     "outputs": [
      {
       "output_type": "stream",
       "stream": "stdout",
       "text": [
        "logreg: 0.902\n",
        "1 worker logreg 14.717 s\n"
       ]
      },
      {
       "output_type": "stream",
       "stream": "stdout",
       "text": [
        "logreg: 0.902\n",
        "7 workers logreg 11.034 s\n"
       ]
      }
     ],
     "prompt_number": 8
    },
    {
     "cell_type": "code",
     "collapsed": false,
     "input": [
      "def sgd(num_workers):\n",
      "    clf = SGDClassifier(loss='log', class_weight='auto', penalty='l2', n_iter=20)\n",
      "    param_grid = [{'alpha': [.000001, .00001, .0001, .001, .01, .1, 1]}]\n",
      "    grid_clf = GridSearchCV(clf, param_grid, cv=3, verbose=0, n_jobs=num_workers, pre_dispatch=2*num_workers)\n",
      "    grid_clf.fit(ds.X, ds.y)\n",
      "    print('sgd: {:.3f}'.format(grid_clf.score(ds.X_test, ds.y_test)))\n",
      "\n",
      "t = time.time()\n",
      "sgd(1)\n",
      "print('1 worker sgd {:.3f} s'.format(time.time() - t))\n",
      "\n",
      "t = time.time()\n",
      "sgd(7)\n",
      "print('7 workers sgd {:.3f} s'.format(time.time() - t))"
     ],
     "language": "python",
     "metadata": {},
     "outputs": [
      {
       "output_type": "stream",
       "stream": "stdout",
       "text": [
        "sgd: 0.901\n",
        "1 worker sgd 13.478 s\n"
       ]
      },
      {
       "output_type": "stream",
       "stream": "stdout",
       "text": [
        "sgd: 0.901\n",
        "7 workers sgd 4.999 s\n"
       ]
      }
     ],
     "prompt_number": 20
    }
   ],
   "metadata": {}
  }
 ]
}