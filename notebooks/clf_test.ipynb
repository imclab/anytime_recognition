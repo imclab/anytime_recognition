{
 "metadata": {
  "name": "",
  "signature": "sha256:0afbd42ce35f8833f8a19400c832872abed871173a75bb66bfc75836029e472e"
 },
 "nbformat": 3,
 "nbformat_minor": 0,
 "worksheets": [
  {
   "cells": [
    {
     "cell_type": "code",
     "collapsed": false,
     "input": [
      "import tc\n",
      "import numpy as np\n",
      "from sklearn.metrics import accuracy_score\n",
      "\n",
      "ds = tc.data_sources.SyntheticOrthants(D=2, N=12000)\n",
      "# ~2-2.5 s per loop for adaboost, sgd with 4 workers\n",
      "# 9.27 ms for gaussiannb\n",
      "ds = tc.data_sources.SyntheticOrthants(D=4, N=12000)\n",
      "# with 8 workers:\n",
      "# 33s for sgd\n",
      "# 43s for adaboost\n",
      "# 0.1s per loop for gaussiannb\n",
      "# 19s for logisticregression\n",
      "\n",
      "C = 8\n",
      "clfs = [\n",
      "    tc.classifier.SGDClassifier(ds, num_workers=C),\n",
      "    tc.classifier.GaussianNBClassifier(ds, num_workers=C),\n",
      "    tc.classifier.AdaBoostClassifier(ds, num_workers=C),\n",
      "    tc.classifier.LogisticClassifier(ds, num_workers=C)\n",
      "]\n",
      "\n",
      "for clf in clfs:\n",
      "    %timeit -r 1 clf.fit(ds.X, ds.y)\n",
      "    if hasattr(clf.clf, 'best_estimator_'):\n",
      "        print(clf.clf.best_estimator_)\n",
      "    else:\n",
      "        print(clf.clf)\n",
      "    y_pred = np.argmax(clf.predict(ds.X_test), axis=1)\n",
      "    print(accuracy_score(ds.y_test, y_pred))\n"
     ],
     "language": "python",
     "metadata": {},
     "outputs": []
    }
   ],
   "metadata": {}
  }
 ]
}