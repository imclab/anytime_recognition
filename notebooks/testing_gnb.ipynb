{
 "metadata": {
  "name": "testing_gnb"
 },
 "nbformat": 3,
 "nbformat_minor": 0,
 "worksheets": [
  {
   "cells": [
    {
     "cell_type": "code",
     "collapsed": false,
     "input": [
      "%load_ext autoreload\n",
      "%autoreload 2\n",
      "\n",
      "import sklearn.datasets\n",
      "\n",
      "data = sklearn.datasets.load_iris()\n",
      "X = data['data']\n",
      "X = sklearn.preprocessing.StandardScaler().fit_transform(X)\n",
      "y = data['target']\n",
      "\n",
      "X, y = sklearn.datasets.make_classification(n_samples=1000, n_classes=10, n_informative=6)\n",
      "\n",
      "np.random.seed(0)\n",
      "mask = np.random.rand(*X.shape) < .5\n",
      "Xm = X.copy()\n",
      "Xm[mask] = 0"
     ],
     "language": "python",
     "metadata": {},
     "outputs": [],
     "prompt_number": 51
    },
    {
     "cell_type": "code",
     "collapsed": false,
     "input": [
      "# Training on full data\n",
      "\n",
      "from tc.gaussian_nb import GaussianNB\n",
      "from sklearn.metrics import accuracy_score\n",
      "\n",
      "%timeit -n 10 clf = GaussianNB().fit(X, y)\n",
      "print('GaussianNB().fit(X, y)')\n",
      "clf = GaussianNB().fit(X, y)\n",
      "\n",
      "%timeit -n 10 clf.predict(X)\n",
      "print('clf.predict(X): {:.3f}'.format(accuracy_score(clf.predict(X), y)))\n",
      "\n",
      "%timeit -n 10 clf.predict(Xm)\n",
      "print('clf.predict(Xm): {:.3f}'.format(accuracy_score(clf.predict(Xm), y)))\n",
      "\n",
      "%timeit -n 10 clf.predict(Xm, mask)\n",
      "print('clf.predict(Xm, mask): {:.3f}'.format(accuracy_score(clf.predict(Xm, mask), y)))"
     ],
     "language": "python",
     "metadata": {},
     "outputs": [
      {
       "output_type": "stream",
       "stream": "stdout",
       "text": [
        "10 loops, best of 3: 1.55 ms per loop\n",
        "GaussianNB().fit(X, y)\n",
        "10 loops, best of 3: 2.37 ms per loop"
       ]
      },
      {
       "output_type": "stream",
       "stream": "stdout",
       "text": [
        "\n",
        "clf.predict(X): 0.411\n",
        "10 loops, best of 3: 2.37 ms per loop"
       ]
      },
      {
       "output_type": "stream",
       "stream": "stdout",
       "text": [
        "\n",
        "clf.predict(Xm): 0.271\n",
        "10 loops, best of 3: 3.12 ms per loop"
       ]
      },
      {
       "output_type": "stream",
       "stream": "stdout",
       "text": [
        "\n",
        "clf.predict(Xm, mask): 0.271\n"
       ]
      }
     ],
     "prompt_number": 52
    },
    {
     "cell_type": "code",
     "collapsed": false,
     "input": [
      "# Training on corrupted data without mask\n",
      "\n",
      "%timeit -n 10 clf = GaussianNB().fit(X, y)\n",
      "print('GaussianNB().fit(Xm, y)')\n",
      "clf = GaussianNB().fit(Xm, y)\n",
      "\n",
      "%timeit -n 10 clf.predict(X)\n",
      "print('clf.predict(X): {:.3f}'.format(accuracy_score(clf.predict(X), y)))\n",
      "\n",
      "%timeit -n 10 clf.predict(Xm)\n",
      "print('clf.predict(Xm): {:.3f}'.format(accuracy_score(clf.predict(Xm), y)))\n",
      "\n",
      "%timeit -n 10 clf.predict(Xm, mask)\n",
      "print('clf.predict(Xm, mask): {:.3f}'.format(accuracy_score(clf.predict(Xm, mask), y)))"
     ],
     "language": "python",
     "metadata": {},
     "outputs": [
      {
       "output_type": "stream",
       "stream": "stdout",
       "text": [
        "10 loops, best of 3: 1.5 ms per loop\n",
        "GaussianNB().fit(Xm, y)\n",
        "10 loops, best of 3: 2.35 ms per loop"
       ]
      },
      {
       "output_type": "stream",
       "stream": "stdout",
       "text": [
        "\n",
        "clf.predict(X): 0.329\n",
        "10 loops, best of 3: 2.37 ms per loop"
       ]
      },
      {
       "output_type": "stream",
       "stream": "stdout",
       "text": [
        "\n",
        "clf.predict(Xm): 0.315\n",
        "10 loops, best of 3: 3.16 ms per loop"
       ]
      },
      {
       "output_type": "stream",
       "stream": "stdout",
       "text": [
        "\n",
        "clf.predict(Xm, mask): 0.319"
       ]
      },
      {
       "output_type": "stream",
       "stream": "stdout",
       "text": [
        "\n"
       ]
      }
     ],
     "prompt_number": 53
    },
    {
     "cell_type": "code",
     "collapsed": false,
     "input": [
      "# Training on corrupted data with mask\n",
      "\n",
      "%timeit -n 10 clf = GaussianNB().fit(X, y)\n",
      "print('GaussianNB().fit(Xm, y)')\n",
      "clf = GaussianNB().fit(Xm, y, mask)\n",
      "\n",
      "%timeit -n 10 clf.predict(X)\n",
      "print('clf.predict(X): {:.3f}'.format(accuracy_score(clf.predict(X), y)))\n",
      "\n",
      "%timeit -n 10 clf.predict(Xm)\n",
      "print('clf.predict(Xm): {:.3f}'.format(accuracy_score(clf.predict(Xm), y)))\n",
      "\n",
      "%timeit -n 10 clf.predict(Xm, mask)\n",
      "print('clf.predict(Xm, mask): {:.3f}'.format(accuracy_score(clf.predict(Xm, mask), y)))"
     ],
     "language": "python",
     "metadata": {},
     "outputs": [
      {
       "output_type": "stream",
       "stream": "stdout",
       "text": [
        "10 loops, best of 3: 1.53 ms per loop\n",
        "GaussianNB().fit(Xm, y)\n",
        "10 loops, best of 3: 2.39 ms per loop"
       ]
      },
      {
       "output_type": "stream",
       "stream": "stdout",
       "text": [
        "\n",
        "clf.predict(X): 0.390\n",
        "10 loops, best of 3: 2.34 ms per loop"
       ]
      },
      {
       "output_type": "stream",
       "stream": "stdout",
       "text": [
        "\n",
        "clf.predict(Xm): 0.318\n",
        "10 loops, best of 3: 3.12 ms per loop"
       ]
      },
      {
       "output_type": "stream",
       "stream": "stdout",
       "text": [
        "\n",
        "clf.predict(Xm, mask): 0.315\n"
       ]
      }
     ],
     "prompt_number": 54
    }
   ],
   "metadata": {}
  }
 ]
}